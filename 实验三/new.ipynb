{
 "cells": [
  {
   "cell_type": "code",
   "execution_count": 1,
   "metadata": {},
   "outputs": [],
   "source": [
    "import numpy as np\n",
    "import time\n",
    "\n",
    "# 导入数据\n",
    "from sklearn.datasets import load_wine\n",
    "wine = load_wine()\n",
    "feature = wine.data\n",
    "target = wine.target"
   ]
  },
  {
   "cell_type": "code",
   "execution_count": 2,
   "metadata": {},
   "outputs": [],
   "source": [
    "# min-max normalization\n",
    "feature = (feature - feature.min(axis=0)) / (feature.max(axis=0) - feature.min(axis=0))"
   ]
  },
  {
   "cell_type": "code",
   "execution_count": 3,
   "metadata": {},
   "outputs": [],
   "source": [
    "# use a BP neural network to classify the wine data\n",
    "\n",
    "# 将target0，1，2转换为one-hot编码[0,0,1],[0,1,0],[1,0,0]\n",
    "from sklearn.preprocessing import OneHotEncoder\n",
    "encoder = OneHotEncoder(sparse=False)\n",
    "target = encoder.fit_transform(target.reshape(-1, 1))\n",
    "\n",
    "# 划分训练集和测试集\n",
    "# 取前150个样本作为训练集，后28个样本作为测试集\n",
    "feature_train = feature[:150]\n",
    "target_train = target[:150]\n",
    "feature_test = feature[150:]\n",
    "target_test = target[150:]"
   ]
  },
  {
   "cell_type": "code",
   "execution_count": 4,
   "metadata": {},
   "outputs": [
    {
     "data": {
      "text/plain": [
       "(178, 13)"
      ]
     },
     "execution_count": 4,
     "metadata": {},
     "output_type": "execute_result"
    }
   ],
   "source": [
    "feature.shape"
   ]
  },
  {
   "cell_type": "code",
   "execution_count": 5,
   "metadata": {},
   "outputs": [
    {
     "data": {
      "text/plain": [
       "(178, 3)"
      ]
     },
     "execution_count": 5,
     "metadata": {},
     "output_type": "execute_result"
    }
   ],
   "source": [
    "target.shape"
   ]
  },
  {
   "cell_type": "code",
   "execution_count": 6,
   "metadata": {},
   "outputs": [],
   "source": [
    "class Net:\n",
    "    def __init__(self, input_size, hidden_size=10, output_size=3):\n",
    "        # 输入层到隐藏层的权重和偏置\n",
    "        self.w1 = np.random.randn(input_size, hidden_size)\n",
    "        self.b1 = np.zeros(hidden_size)\n",
    "        # 隐藏层到输出层的权重和偏置\n",
    "        self.w2 = np.random.randn(hidden_size, output_size)\n",
    "        self.b2 = np.zeros(output_size)\n",
    "\n",
    "    def forward(self, x):\n",
    "        # 输入层到隐藏层\n",
    "        self.z1 = x.dot(self.w1) + self.b1\n",
    "        # 第一层激活函数使用tanh\n",
    "        self.a1 = np.tanh(self.z1)\n",
    "        # 隐藏层到输出层\n",
    "        self.z2 = self.a1.dot(self.w2) + self.b2\n",
    "        # 隐藏层到输出层的激活函数使用sigmoid\n",
    "        self.a2 = 1 / (1 + np.exp(-self.z2))\n",
    "\n",
    "    # 反向传播\n",
    "    def backward(self, x, y, lr=0.01):\n",
    "        delta2 = self.a2 - y\n",
    "        delta1 = delta2.dot(self.w2.T) * (1 - np.tanh(self.z1) ** 2)\n",
    "        self.w2 -= self.a1.T.dot(delta2) * lr\n",
    "        self.b2 -= np.sum(delta2, axis=0) * lr\n",
    "        self.w1 -= x.T.dot(delta1) * lr\n",
    "        self.b1 -= np.sum(delta1, axis=0) * lr\n",
    "\n",
    "    def train(self, x, y, lr=0.01):\n",
    "        self.forward(x)\n",
    "        self.backward(x, y, lr)\n",
    "    \n",
    "    def predict(self, x):\n",
    "        self.forward(x)\n",
    "        return self.a2"
   ]
  },
  {
   "cell_type": "code",
   "execution_count": 7,
   "metadata": {},
   "outputs": [],
   "source": [
    "# 交叉熵损失函数\n",
    "def loss(y, y_hat):\n",
    "    return -np.sum(y * np.log(y_hat))"
   ]
  },
  {
   "cell_type": "code",
   "execution_count": 8,
   "metadata": {},
   "outputs": [
    {
     "name": "stdout",
     "output_type": "stream",
     "text": [
      "epoch 0 loss 651.3707893116007\n",
      "epoch 100 loss 34108.022581234436\n",
      "epoch 200 loss 22904.688827503673\n",
      "epoch 300 loss 22098.973703014923\n",
      "epoch 400 loss 29601.14515496017\n",
      "epoch 500 loss 21772.46077131911\n",
      "epoch 600 loss 1.782894388806898\n",
      "epoch 700 loss 43236.79315706817\n",
      "epoch 800 loss 4358.050911498412\n",
      "epoch 900 loss 5.060947439546613e-09\n",
      "training time: 0.049237728118896484\n",
      "accuracy:  0.0\n"
     ]
    }
   ],
   "source": [
    "# 创建神经网络\n",
    "New = Net(13, 15, 3)\n",
    "\n",
    "# 训练\n",
    "t1 = time.time()\n",
    "for i in range(1000):\n",
    "    New.train(feature_train, target_train, 0.3)\n",
    "    if i % 100 == 0:\n",
    "        print(\"epoch\", i, \"loss\", loss(target_train, New.predict(feature_train)))\n",
    "t2 = time.time()\n",
    "print(\"training time:\", t2 - t1)\n",
    "\n",
    "# 预测\n",
    "prid = New.predict(feature_test)\n",
    "# 计算准确率\n",
    "print(\"accuracy: \",np.mean(np.argmax(prid, axis=1) == np.argmax(target_test, axis=1)))"
   ]
  },
  {
   "cell_type": "code",
   "execution_count": 9,
   "metadata": {},
   "outputs": [
    {
     "data": {
      "text/plain": [
       "array([[0.84210526, 0.1916996 , 0.57219251, ..., 0.45528455, 0.97069597,\n",
       "        0.56134094],\n",
       "       [0.57105263, 0.2055336 , 0.4171123 , ..., 0.46341463, 0.78021978,\n",
       "        0.55064194],\n",
       "       [0.56052632, 0.3201581 , 0.70053476, ..., 0.44715447, 0.6959707 ,\n",
       "        0.64693295],\n",
       "       ...,\n",
       "       [0.58947368, 0.69960474, 0.48128342, ..., 0.08943089, 0.10622711,\n",
       "        0.39728959],\n",
       "       [0.56315789, 0.36561265, 0.54010695, ..., 0.09756098, 0.12820513,\n",
       "        0.40085592],\n",
       "       [0.81578947, 0.66403162, 0.73796791, ..., 0.10569106, 0.12087912,\n",
       "        0.20114123]])"
      ]
     },
     "execution_count": 9,
     "metadata": {},
     "output_type": "execute_result"
    }
   ],
   "source": [
    "feature"
   ]
  }
 ],
 "metadata": {
  "kernelspec": {
   "display_name": "ML",
   "language": "python",
   "name": "python3"
  },
  "language_info": {
   "codemirror_mode": {
    "name": "ipython",
    "version": 3
   },
   "file_extension": ".py",
   "mimetype": "text/x-python",
   "name": "python",
   "nbconvert_exporter": "python",
   "pygments_lexer": "ipython3",
   "version": "3.8.20"
  }
 },
 "nbformat": 4,
 "nbformat_minor": 2
}
