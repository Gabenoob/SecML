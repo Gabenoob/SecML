{
 "cells": [
  {
   "cell_type": "code",
   "execution_count": 1,
   "metadata": {},
   "outputs": [],
   "source": [
    "import numpy as np\n",
    "import pandas as pd\n",
    "import matplotlib.pyplot as plt"
   ]
  },
  {
   "cell_type": "markdown",
   "metadata": {},
   "source": [
    "# MNIST"
   ]
  },
  {
   "cell_type": "markdown",
   "metadata": {},
   "source": [
    "## data augmentation"
   ]
  },
  {
   "cell_type": "markdown",
   "metadata": {},
   "source": [
    "## split data into train and validation"
   ]
  },
  {
   "cell_type": "markdown",
   "metadata": {},
   "source": [
    "## Converlutional Neural Network"
   ]
  },
  {
   "cell_type": "code",
   "execution_count": 2,
   "metadata": {},
   "outputs": [],
   "source": [
    "import torch"
   ]
  },
  {
   "cell_type": "code",
   "execution_count": 3,
   "metadata": {},
   "outputs": [],
   "source": [
    "# Load the data\n",
    "data = pd.read_csv('train-minst.csv')\n",
    "# data = pd.read_csv('test-minst.csv') # only for architecture building\n",
    "label = data['label']\n",
    "data = data.values[:, 1:]\n",
    "data = data.reshape(data.shape[0], 28, 28)\n"
   ]
  },
  {
   "cell_type": "code",
   "execution_count": 4,
   "metadata": {},
   "outputs": [
    {
     "name": "stdout",
     "output_type": "stream",
     "text": [
      "1\n"
     ]
    },
    {
     "data": {
      "image/png": "[encoded data removed]",
      "text/plain": [
       "<Figure size 640x480 with 1 Axes>"
      ]
     },
     "metadata": {},
     "output_type": "display_data"
    }
   ],
   "source": [
    "n = 1000\n",
    "plt.imshow(data[n], cmap='gray')\n",
    "print(label[n])"
   ]
  },
  {
   "cell_type": "markdown",
   "metadata": {},
   "source": [
    "## cross validation"
   ]
  },
  {
   "cell_type": "markdown",
   "metadata": {},
   "source": [
    "## super parameter (n_layer, stoppinh criteria, con_kernal)"
   ]
  },
  {
   "cell_type": "markdown",
   "metadata": {},
   "source": [
    "## Loss function"
   ]
  },
  {
   "cell_type": "code",
   "execution_count": 5,
   "metadata": {},
   "outputs": [],
   "source": [
    "class CNN(torch.nn.Module):\n",
    "    def __init__(self):\n",
    "        super(CNN, self).__init__()\n",
    "        self.conv1 = torch.nn.Conv2d(1, 16, kernel_size=3, stride=1, padding=1)\n",
    "        self.conv2 = torch.nn.Conv2d(16, 32, kernel_size=3, stride=1, padding=1)\n",
    "        self.fc1 = torch.nn.Linear(32*7*7, 128)\n",
    "        self.fc2 = torch.nn.Linear(128, 10)\n",
    "        \n",
    "    def forward(self, x):\n",
    "        x = torch.nn.functional.relu(self.conv1(x))\n",
    "        x = torch.nn.functional.max_pool2d(x, 2)\n",
    "        x = torch.nn.functional.relu(self.conv2(x))\n",
    "        x = torch.nn.functional.max_pool2d(x, 2)\n",
    "        x = x.view(-1, 32*7*7)\n",
    "        x = torch.nn.functional.relu(self.fc1(x))\n",
    "        x = self.fc2(x)\n",
    "        return x"
   ]
  },
  {
   "cell_type": "code",
   "execution_count": 6,
   "metadata": {},
   "outputs": [
    {
     "name": "stdout",
     "output_type": "stream",
     "text": [
      "Epoch: 0, Loss: 12.782937049865723\n",
      "Epoch: 1, Loss: 13.440282821655273\n",
      "Epoch: 2, Loss: 16.70424461364746\n",
      "Epoch: 3, Loss: 12.112531661987305\n",
      "Epoch: 4, Loss: 9.047890663146973\n",
      "Epoch: 5, Loss: 5.775685787200928\n",
      "Epoch: 6, Loss: 4.835099220275879\n",
      "Epoch: 7, Loss: 4.720396518707275\n",
      "Epoch: 8, Loss: 4.398662090301514\n",
      "Epoch: 9, Loss: 3.693903923034668\n",
      "Epoch: 10, Loss: 2.888331174850464\n",
      "Epoch: 11, Loss: 2.266852617263794\n",
      "Epoch: 12, Loss: 1.8493179082870483\n",
      "Epoch: 13, Loss: 1.5936979055404663\n",
      "Epoch: 14, Loss: 1.4534045457839966\n",
      "Epoch: 15, Loss: 1.3755587339401245\n",
      "Epoch: 16, Loss: 1.3122528791427612\n",
      "Epoch: 17, Loss: 1.2432700395584106\n",
      "Epoch: 18, Loss: 1.168607234954834\n",
      "Epoch: 19, Loss: 1.0960726737976074\n",
      "Epoch: 20, Loss: 1.0278412103652954\n",
      "Epoch: 21, Loss: 0.9670742154121399\n",
      "Epoch: 22, Loss: 0.915435254573822\n",
      "Epoch: 23, Loss: 0.871012270450592\n",
      "Epoch: 24, Loss: 0.8298389911651611\n",
      "Epoch: 25, Loss: 0.7890974879264832\n",
      "Epoch: 26, Loss: 0.7477770447731018\n",
      "Epoch: 27, Loss: 0.7048733234405518\n",
      "Epoch: 28, Loss: 0.6603326797485352\n",
      "Epoch: 29, Loss: 0.615854799747467\n",
      "Epoch: 30, Loss: 0.5736463665962219\n",
      "Epoch: 31, Loss: 0.533105194568634\n",
      "Epoch: 32, Loss: 0.4928896129131317\n",
      "Epoch: 33, Loss: 0.4553341567516327\n",
      "Epoch: 34, Loss: 0.4247570335865021\n",
      "Epoch: 35, Loss: 0.40116265416145325\n",
      "Epoch: 36, Loss: 0.3818475604057312\n",
      "Epoch: 37, Loss: 0.36556360125541687\n",
      "Epoch: 38, Loss: 0.3522767722606659\n",
      "Epoch: 39, Loss: 0.3411101698875427\n",
      "Epoch: 40, Loss: 0.3298158347606659\n",
      "Epoch: 41, Loss: 0.31709206104278564\n",
      "Epoch: 42, Loss: 0.30381718277931213\n",
      "Epoch: 43, Loss: 0.29139572381973267\n",
      "Epoch: 44, Loss: 0.2806302011013031\n",
      "Epoch: 45, Loss: 0.2713657319545746\n",
      "Epoch: 46, Loss: 0.2632945477962494\n",
      "Epoch: 47, Loss: 0.25633004307746887\n",
      "Epoch: 48, Loss: 0.2502405345439911\n",
      "Epoch: 49, Loss: 0.24450796842575073\n",
      "Epoch: 50, Loss: 0.2386646866798401\n",
      "Epoch: 51, Loss: 0.23280680179595947\n",
      "Epoch: 52, Loss: 0.22734396159648895\n",
      "Epoch: 53, Loss: 0.2224562168121338\n",
      "Epoch: 54, Loss: 0.21783821284770966\n",
      "Epoch: 55, Loss: 0.2130957692861557\n",
      "Epoch: 56, Loss: 0.2080790251493454\n",
      "Epoch: 57, Loss: 0.2029702216386795\n",
      "Epoch: 58, Loss: 0.1980530321598053\n",
      "Epoch: 59, Loss: 0.19345474243164062\n",
      "Epoch: 60, Loss: 0.18917828798294067\n",
      "Epoch: 61, Loss: 0.18524466454982758\n",
      "Epoch: 62, Loss: 0.18164271116256714\n",
      "Epoch: 63, Loss: 0.17828533053398132\n",
      "Epoch: 64, Loss: 0.17498718202114105\n",
      "Epoch: 65, Loss: 0.17163245379924774\n",
      "Epoch: 66, Loss: 0.16827327013015747\n",
      "Epoch: 67, Loss: 0.16500987112522125\n",
      "Epoch: 68, Loss: 0.16187137365341187\n",
      "Epoch: 69, Loss: 0.15881314873695374\n",
      "Epoch: 70, Loss: 0.15582551062107086\n",
      "Epoch: 71, Loss: 0.15294256806373596\n",
      "Epoch: 72, Loss: 0.15019044280052185\n",
      "Epoch: 73, Loss: 0.1475612372159958\n",
      "Epoch: 74, Loss: 0.14503245055675507\n",
      "Epoch: 75, Loss: 0.14260919392108917\n",
      "Epoch: 76, Loss: 0.1402871310710907\n",
      "Epoch: 77, Loss: 0.13803939521312714\n",
      "Epoch: 78, Loss: 0.13583165407180786\n",
      "Epoch: 79, Loss: 0.1336517333984375\n",
      "Epoch: 80, Loss: 0.13152645528316498\n",
      "Epoch: 81, Loss: 0.12948833405971527\n",
      "Epoch: 82, Loss: 0.12751558423042297\n",
      "Epoch: 83, Loss: 0.12559299170970917\n",
      "Epoch: 84, Loss: 0.12371496111154556\n",
      "Epoch: 85, Loss: 0.12189154326915741\n",
      "Epoch: 86, Loss: 0.12012992054224014\n",
      "Epoch: 87, Loss: 0.11840885132551193\n",
      "Epoch: 88, Loss: 0.11674188822507858\n",
      "Epoch: 89, Loss: 0.11512741446495056\n",
      "Epoch: 90, Loss: 0.11354620009660721\n",
      "Epoch: 91, Loss: 0.11199179291725159\n",
      "Epoch: 92, Loss: 0.11047054082155228\n",
      "Epoch: 93, Loss: 0.10899661481380463\n",
      "Epoch: 94, Loss: 0.10756704211235046\n",
      "Epoch: 95, Loss: 0.10616698116064072\n",
      "Epoch: 96, Loss: 0.10479072481393814\n",
      "Epoch: 97, Loss: 0.1034427285194397\n",
      "Epoch: 98, Loss: 0.10212550312280655\n",
      "Epoch: 99, Loss: 0.100844606757164\n",
      "Epoch: 100, Loss: 0.09960078448057175\n",
      "Epoch: 101, Loss: 0.09839236736297607\n",
      "Epoch: 102, Loss: 0.09721818566322327\n",
      "Epoch: 103, Loss: 0.09606397897005081\n",
      "Epoch: 104, Loss: 0.09493326395750046\n",
      "Epoch: 105, Loss: 0.09383514523506165\n",
      "Epoch: 106, Loss: 0.09275862574577332\n",
      "Epoch: 107, Loss: 0.09170443564653397\n",
      "Epoch: 108, Loss: 0.09067796170711517\n",
      "Epoch: 109, Loss: 0.08967147022485733\n",
      "Epoch: 110, Loss: 0.08869051933288574\n",
      "Epoch: 111, Loss: 0.0877329632639885\n",
      "Epoch: 112, Loss: 0.08679477870464325\n",
      "Epoch: 113, Loss: 0.08587954938411713\n",
      "Epoch: 114, Loss: 0.08498187363147736\n",
      "Epoch: 115, Loss: 0.0841042622923851\n",
      "Epoch: 116, Loss: 0.08324039727449417\n",
      "Epoch: 117, Loss: 0.08239702135324478\n",
      "Epoch: 118, Loss: 0.08156835287809372\n",
      "Epoch: 119, Loss: 0.08075816184282303\n",
      "Epoch: 120, Loss: 0.07996547967195511\n",
      "Epoch: 121, Loss: 0.07918380200862885\n",
      "Epoch: 122, Loss: 0.07841651141643524\n",
      "Epoch: 123, Loss: 0.07766447961330414\n",
      "Epoch: 124, Loss: 0.07692331820726395\n",
      "Epoch: 125, Loss: 0.0761994943022728\n",
      "Epoch: 126, Loss: 0.07548702508211136\n",
      "Epoch: 127, Loss: 0.07478439062833786\n",
      "Epoch: 128, Loss: 0.0740971714258194\n",
      "Epoch: 129, Loss: 0.07341945171356201\n",
      "Epoch: 130, Loss: 0.07275241613388062\n",
      "Epoch: 131, Loss: 0.0720972791314125\n",
      "Epoch: 132, Loss: 0.07145031541585922\n",
      "Epoch: 133, Loss: 0.07081317156553268\n",
      "Epoch: 134, Loss: 0.07018381357192993\n",
      "Epoch: 135, Loss: 0.06956921517848969\n",
      "Epoch: 136, Loss: 0.0689617395401001\n",
      "Epoch: 137, Loss: 0.06836544722318649\n",
      "Epoch: 138, Loss: 0.06777776777744293\n",
      "Epoch: 139, Loss: 0.06719958782196045\n",
      "Epoch: 140, Loss: 0.06663177162408829\n",
      "Epoch: 141, Loss: 0.06607190519571304\n",
      "Epoch: 142, Loss: 0.06551916152238846\n",
      "Epoch: 143, Loss: 0.06497640907764435\n",
      "Epoch: 144, Loss: 0.06444153189659119\n",
      "Epoch: 145, Loss: 0.06391293555498123\n",
      "Epoch: 146, Loss: 0.06339432299137115\n",
      "Epoch: 147, Loss: 0.06287792325019836\n",
      "Epoch: 148, Loss: 0.062371332198381424\n",
      "Epoch: 149, Loss: 0.06186951324343681\n",
      "Epoch: 150, Loss: 0.061374690383672714\n",
      "Epoch: 151, Loss: 0.06088770553469658\n",
      "Epoch: 152, Loss: 0.06040804460644722\n",
      "Epoch: 153, Loss: 0.05993286147713661\n",
      "Epoch: 154, Loss: 0.0594656877219677\n",
      "Epoch: 155, Loss: 0.05900510400533676\n",
      "Epoch: 156, Loss: 0.05854865536093712\n",
      "Epoch: 157, Loss: 0.058098915964365005\n",
      "Epoch: 158, Loss: 0.05765771493315697\n",
      "Epoch: 159, Loss: 0.057220280170440674\n",
      "Epoch: 160, Loss: 0.0567881315946579\n",
      "Epoch: 161, Loss: 0.05636214092373848\n",
      "Epoch: 162, Loss: 0.05594184249639511\n",
      "Epoch: 163, Loss: 0.05552515387535095\n",
      "Epoch: 164, Loss: 0.055114395916461945\n",
      "Epoch: 165, Loss: 0.05470893159508705\n",
      "Epoch: 166, Loss: 0.05430714786052704\n",
      "Epoch: 167, Loss: 0.053914107382297516\n",
      "Epoch: 168, Loss: 0.0535212978720665\n",
      "Epoch: 169, Loss: 0.05313386395573616\n",
      "Epoch: 170, Loss: 0.0527520477771759\n",
      "Epoch: 171, Loss: 0.05237274616956711\n",
      "Epoch: 172, Loss: 0.05199771374464035\n",
      "Epoch: 173, Loss: 0.05162623152136803\n",
      "Epoch: 174, Loss: 0.05125931650400162\n",
      "Epoch: 175, Loss: 0.05089540407061577\n",
      "Epoch: 176, Loss: 0.05053507909178734\n",
      "Epoch: 177, Loss: 0.050179433077573776\n",
      "Epoch: 178, Loss: 0.04982763156294823\n",
      "Epoch: 179, Loss: 0.04947684705257416\n",
      "Epoch: 180, Loss: 0.049131207168102264\n",
      "Epoch: 181, Loss: 0.0487884059548378\n",
      "Epoch: 182, Loss: 0.048446763306856155\n",
      "Epoch: 183, Loss: 0.04811003431677818\n",
      "Epoch: 184, Loss: 0.047775860875844955\n",
      "Epoch: 185, Loss: 0.04744389280676842\n",
      "Epoch: 186, Loss: 0.04711693897843361\n",
      "Epoch: 187, Loss: 0.046790044754743576\n",
      "Epoch: 188, Loss: 0.046467963606119156\n",
      "Epoch: 189, Loss: 0.046147674322128296\n",
      "Epoch: 190, Loss: 0.045829109847545624\n",
      "Epoch: 191, Loss: 0.0455162338912487\n",
      "Epoch: 192, Loss: 0.04520539566874504\n",
      "Epoch: 193, Loss: 0.04489538446068764\n",
      "Epoch: 194, Loss: 0.04459083825349808\n",
      "Epoch: 195, Loss: 0.044287942349910736\n",
      "Epoch: 196, Loss: 0.04398869723081589\n",
      "Epoch: 197, Loss: 0.0436902679502964\n",
      "Epoch: 198, Loss: 0.043395332992076874\n",
      "Epoch: 199, Loss: 0.043102528899908066\n"
     ]
    },
    {
     "name": "stderr",
     "output_type": "stream",
     "text": [
      "/tmp/ipykernel_19205/3776535719.py:28: FutureWarning: You are using `torch.load` with `weights_only=False` (the current default value), which uses the default pickle module implicitly. It is possible to construct malicious pickle data which will execute arbitrary code during unpickling (See https://github.com/pytorch/pytorch/blob/main/SECURITY.md#untrusted-models for more details). In a future release, the default value for `weights_only` will be flipped to `True`. This limits the functions that could be executed during unpickling. Arbitrary objects will no longer be allowed to be loaded via this mode unless they are explicitly allowlisted by the user via `torch.serialization.add_safe_globals`. We recommend you start setting `weights_only=True` for any use case where you don't have full control of the loaded file. Please open an issue on GitHub for any issues related to this experimental feature.\n",
      "  Net.load_state_dict(torch.load('model.pth'))\n"
     ]
    }
   ],
   "source": [
    "Net = CNN()\n",
    "criterion = torch.nn.CrossEntropyLoss()\n",
    "optimizer = torch.optim.Adam(Net.parameters(), lr=0.001)\n",
    "\n",
    "data = torch.tensor(data, dtype=torch.float32).unsqueeze(1)\n",
    "label = torch.tensor(label, dtype=torch.long)\n",
    "\n",
    "# move the model to GPU\n",
    "Net = Net.cuda()\n",
    "criterion = criterion.cuda()\n",
    "data = data.cuda()\n",
    "label = label.cuda()\n",
    "\n",
    "\n",
    "for epoch in range(200):\n",
    "    optimizer.zero_grad()\n",
    "    output = Net(data)\n",
    "    loss = criterion(output, label)\n",
    "    loss.backward()\n",
    "    optimizer.step()\n",
    "    print('Epoch: {}, Loss: {}'.format(epoch, loss.item()))\n",
    "\n",
    "# Save the model\n",
    "torch.save(Net.state_dict(), 'model.pth')\n",
    "\n",
    "# Load the model\n",
    "Net = CNN()\n",
    "Net.load_state_dict(torch.load('model.pth'))\n",
    "\n",
    "# Test the model\n",
    "data = pd.read_csv('train-minst.csv')\n",
    "data = data.values[:, 1:]\n",
    "data = data.reshape(data.shape[0], 28, 28)\n",
    "data = torch.tensor(data, dtype=torch.float32).unsqueeze(1)\n",
    "\n",
    "output = Net(data)\n",
    "output = torch.argmax(output, dim=1)\n",
    "output = output.numpy()\n",
    "\n",
    "df = pd.DataFrame(output, columns=['label'])\n",
    "df.index.name = 'id'\n",
    "df.to_csv('output.csv')\n"
   ]
  },
  {
   "cell_type": "code",
   "execution_count": 7,
   "metadata": {},
   "outputs": [],
   "source": [
    "data = pd.read_csv('train-minst.csv')\n",
    "data = data.values[:, 0]\n",
    "# 合并两个数组\n",
    "data = np.vstack((data, output))"
   ]
  },
  {
   "cell_type": "code",
   "execution_count": 8,
   "metadata": {},
   "outputs": [],
   "source": [
    "with open('comp.csv', 'w') as f:\n",
    "    f.write('true,pred\\n')\n",
    "    for i in range(data.shape[1]):\n",
    "        f.write('{},{}\\n'.format(data[0, i], data[1, i]))"
   ]
  },
  {
   "cell_type": "code",
   "execution_count": 9,
   "metadata": {},
   "outputs": [
    {
     "name": "stdout",
     "output_type": "stream",
     "text": [
      "Accuracy: 0.9873095238095239\n"
     ]
    }
   ],
   "source": [
    "# Calculate the accuracy\n",
    "with open('comp.csv', 'r') as f:\n",
    "    lines = f.readlines()\n",
    "    correct = 0\n",
    "    total = 0\n",
    "    for line in lines[1:]:\n",
    "        true, pred = line.strip().split(',')\n",
    "        if true == pred:\n",
    "            correct += 1\n",
    "        total += 1\n",
    "    print('Accuracy: {}'.format(correct/total))"
   ]
  },
  {
   "cell_type": "markdown",
   "metadata": {},
   "source": [
    "## speed of convergerce"
   ]
  },
  {
   "cell_type": "markdown",
   "metadata": {},
   "source": [
    "## PCA"
   ]
  },
  {
   "cell_type": "markdown",
   "metadata": {},
   "source": [
    "## BSSMF\n",
    "\n",
    "### 分解后得10列矩阵，由1～0全部拆开，1全部相加取平均，2同理，10个数分别做一个预测，差距最小的为预测值。"
   ]
  }
 ],
 "metadata": {
  "kernelspec": {
   "display_name": "ML",
   "language": "python",
   "name": "python3"
  },
  "language_info": {
   "codemirror_mode": {
    "name": "ipython",
    "version": 3
   },
   "file_extension": ".py",
   "mimetype": "text/x-python",
   "name": "python",
   "nbconvert_exporter": "python",
   "pygments_lexer": "ipython3",
   "version": "3.10.12"
  }
 },
 "nbformat": 4,
 "nbformat_minor": 2
}
