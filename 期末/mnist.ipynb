{
 "cells": [
  {
   "cell_type": "code",
   "execution_count": 8,
   "metadata": {},
   "outputs": [],
   "source": [
    "import numpy as np\n",
    "import pandas as pd\n",
    "import matplotlib.pyplot as plt"
   ]
  },
  {
   "cell_type": "markdown",
   "metadata": {},
   "source": [
    "# MNIST"
   ]
  },
  {
   "cell_type": "markdown",
   "metadata": {},
   "source": [
    "## data augmentation"
   ]
  },
  {
   "cell_type": "markdown",
   "metadata": {},
   "source": [
    "## split data into train and validation"
   ]
  },
  {
   "cell_type": "markdown",
   "metadata": {},
   "source": [
    "## Converlutional Neural Network"
   ]
  },
  {
   "cell_type": "code",
   "execution_count": 9,
   "metadata": {},
   "outputs": [],
   "source": [
    "import torch"
   ]
  },
  {
   "cell_type": "code",
   "execution_count": 10,
   "metadata": {},
   "outputs": [],
   "source": [
    "# Load the data\n",
    "data = pd.read_csv('train-minst.csv')\n",
    "# data = pd.read_csv('test-minst.csv') # only for architecture building\n",
    "label = data['label']\n",
    "data = data.values[:, 1:]\n",
    "data = data.reshape(data.shape[0], 28, 28)\n"
   ]
  },
  {
   "cell_type": "code",
   "execution_count": 11,
   "metadata": {},
   "outputs": [
    {
     "name": "stdout",
     "output_type": "stream",
     "text": [
      "1\n"
     ]
    },
    {
     "data": {
      "image/png": "[encoded data removed]",
      "text/plain": [
       "<Figure size 640x480 with 1 Axes>"
      ]
     },
     "metadata": {},
     "output_type": "display_data"
    }
   ],
   "source": [
    "n = 1000\n",
    "plt.imshow(data[n], cmap='gray')\n",
    "print(label[n])"
   ]
  },
  {
   "cell_type": "markdown",
   "metadata": {},
   "source": [
    "## cross validation"
   ]
  },
  {
   "cell_type": "markdown",
   "metadata": {},
   "source": [
    "## Loss function"
   ]
  },
  {
   "cell_type": "code",
   "execution_count": 12,
   "metadata": {},
   "outputs": [],
   "source": [
    "class CNN(torch.nn.Module):\n",
    "    def __init__(self):\n",
    "        super(CNN, self).__init__()\n",
    "        self.conv1 = torch.nn.Conv2d(1, 16, kernel_size=3, stride=1, padding=1)\n",
    "        self.conv2 = torch.nn.Conv2d(16, 32, kernel_size=3, stride=1, padding=1)\n",
    "        self.fc1 = torch.nn.Linear(32*7*7, 128)\n",
    "        self.fc2 = torch.nn.Linear(128, 10)\n",
    "        \n",
    "    def forward(self, x):\n",
    "        x = torch.nn.functional.relu(self.conv1(x))\n",
    "        x = torch.nn.functional.max_pool2d(x, 2)\n",
    "        x = torch.nn.functional.relu(self.conv2(x))\n",
    "        x = torch.nn.functional.max_pool2d(x, 2)\n",
    "        x = x.view(-1, 32*7*7)\n",
    "        x = torch.nn.functional.relu(self.fc1(x))\n",
    "        x = self.fc2(x)\n",
    "        return x"
   ]
  },
  {
   "cell_type": "code",
   "execution_count": 13,
   "metadata": {},
   "outputs": [
    {
     "name": "stderr",
     "output_type": "stream",
     "text": [
      "/var/folders/10/l11cj2dx0452qm5q2t184j3m0000gn/T/ipykernel_82960/3894381492.py:21: FutureWarning: You are using `torch.load` with `weights_only=False` (the current default value), which uses the default pickle module implicitly. It is possible to construct malicious pickle data which will execute arbitrary code during unpickling (See https://github.com/pytorch/pytorch/blob/main/SECURITY.md#untrusted-models for more details). In a future release, the default value for `weights_only` will be flipped to `True`. This limits the functions that could be executed during unpickling. Arbitrary objects will no longer be allowed to be loaded via this mode unless they are explicitly allowlisted by the user via `torch.serialization.add_safe_globals`. We recommend you start setting `weights_only=True` for any use case where you don't have full control of the loaded file. Please open an issue on GitHub for any issues related to this experimental feature.\n",
      "  Net.load_state_dict(torch.load('model.pth'))\n"
     ]
    }
   ],
   "source": [
    "# Net = CNN()\n",
    "# criterion = torch.nn.CrossEntropyLoss()\n",
    "# optimizer = torch.optim.Adam(Net.parameters(), lr=0.001)\n",
    "\n",
    "# data = torch.tensor(data, dtype=torch.float32).unsqueeze(1)\n",
    "# label = torch.tensor(label, dtype=torch.long)\n",
    "\n",
    "# for epoch in range(10):\n",
    "#     optimizer.zero_grad()\n",
    "#     output = Net(data)\n",
    "#     loss = criterion(output, label)\n",
    "#     loss.backward()\n",
    "#     optimizer.step()\n",
    "#     print('Epoch: {}, Loss: {}'.format(epoch, loss.item()))\n",
    "\n",
    "# Save the model\n",
    "# torch.save(Net.state_dict(), 'model.pth')\n",
    "\n",
    "# Load the model\n",
    "Net = CNN()\n",
    "Net.load_state_dict(torch.load('model.pth'))\n",
    "\n",
    "# Test the model\n",
    "data = pd.read_csv('train-minst.csv')\n",
    "data = data.values[:, 1:]\n",
    "data = data.reshape(data.shape[0], 28, 28)\n",
    "data = torch.tensor(data, dtype=torch.float32).unsqueeze(1)\n",
    "\n",
    "output = Net(data)\n",
    "output = torch.argmax(output, dim=1)\n",
    "output = output.numpy()\n",
    "\n",
    "df = pd.DataFrame(output, columns=['label'])\n",
    "df.index.name = 'id'\n",
    "df.to_csv('output.csv')\n"
   ]
  },
  {
   "cell_type": "code",
   "execution_count": null,
   "metadata": {},
   "outputs": [
    {
     "name": "stdout",
     "output_type": "stream",
     "text": [
      "[[1 0 1 ... 7 6 9]\n",
      " [4 0 1 ... 7 6 9]]\n"
     ]
    }
   ],
   "source": [
    "data = pd.read_csv('train-minst.csv')\n",
    "data = data.values[:, 0]\n",
    "# 合并两个数组\n",
    "data = np.vstack((data, output))"
   ]
  },
  {
   "cell_type": "code",
   "execution_count": 17,
   "metadata": {},
   "outputs": [],
   "source": [
    "with open('comp.csv', 'w') as f:\n",
    "    f.write('true,pred\\n')\n",
    "    for i in range(data.shape[1]):\n",
    "        f.write('{},{}\\n'.format(data[0, i], data[1, i]))"
   ]
  },
  {
   "cell_type": "markdown",
   "metadata": {},
   "source": [
    "## PCA"
   ]
  }
 ],
 "metadata": {
  "kernelspec": {
   "display_name": "ML",
   "language": "python",
   "name": "python3"
  },
  "language_info": {
   "codemirror_mode": {
    "name": "ipython",
    "version": 3
   },
   "file_extension": ".py",
   "mimetype": "text/x-python",
   "name": "python",
   "nbconvert_exporter": "python",
   "pygments_lexer": "ipython3",
   "version": "3.8.20"
  }
 },
 "nbformat": 4,
 "nbformat_minor": 2
}
